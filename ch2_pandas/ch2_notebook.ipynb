{
 "cells": [
  {
   "cell_type": "markdown",
   "id": "53550dde",
   "metadata": {},
   "source": [
    "# 🐼 Pandas Part 1\n",
    "\n",
    "---"
   ]
  },
  {
   "cell_type": "markdown",
   "id": "d54c9d9f",
   "metadata": {
    "vscode": {
     "languageId": "plaintext"
    }
   },
   "source": [
    "### Creating a DataFrame in Pandas\n",
    "\n",
    "#### 1. Manual DataFrame from Dictionary \n",
    "- Use 'pd.DataFrame()' \n",
    "- Pass data as dictionary or list. \n",
    "- Keys = column names\n",
    "- Values = List containing column data\n",
    "- Pandas auto assigns row labels 0-... \n",
    "- To set row labels mannually - set index attribute of the DataFrame to a list with correct labels \n"
   ]
  },
  {
   "cell_type": "code",
   "execution_count": 19,
   "id": "56e608df",
   "metadata": {},
   "outputs": [
    {
     "name": "stdout",
     "output_type": "stream",
     "text": [
      "         country    capital    area  population\n",
      "BR        Brazil   Brasilia   8.516      200.40\n",
      "RU        Russia     Moscow  17.100      143.50\n",
      "IN         India  New Delhi   3.286     1252.00\n",
      "CH         China    Beijing   9.597     1357.00\n",
      "SA  South Africa   Pretoria   1.221       52.98\n"
     ]
    }
   ],
   "source": [
    "dict = { \n",
    "    \"country\": [\"Brazil\", \"Russia\", \"India\", \"China\", \"South Africa\"], \n",
    "    \"capital\": [\"Brasilia\", \"Moscow\", \"New Delhi\", \"Beijing\", \"Pretoria\"],\n",
    "    \"area\": [8.516, 17.10, 3.286, 9.597, 1.221],\n",
    "    \"population\":[200.4, 143.5, 1252, 1357, 52.98]\n",
    "      }\n",
    "\n",
    "import pandas as pd \n",
    "brics = pd.DataFrame(dict)\n",
    "brics.index = [\"BR\", \"RU\", \"IN\", \"CH\", \"SA\"]\n",
    "print(brics)\n"
   ]
  },
  {
   "cell_type": "code",
   "execution_count": 20,
   "id": "31fb0f12",
   "metadata": {},
   "outputs": [
    {
     "name": "stdout",
     "output_type": "stream",
     "text": [
      "{'dog': ['panda', 'bear', 'lukas', 'alfred']}\n"
     ]
    }
   ],
   "source": [
    "dict2 = {\n",
    "    \"dog\": [\"panda\", \"bear\", \"lukas\", 'alfred',]\n",
    "}\n",
    "print(dict2)"
   ]
  },
  {
   "cell_type": "markdown",
   "id": "08957b7b",
   "metadata": {},
   "source": [
    "#### 2. DataFrame from CSV File\n",
    "- Use pd.read_csv(\"path/to/filename.csv) and pass CSV file path as an argument \n",
    "- Column with row labels is auto-added\n",
    "- To specify row indexes as the first column - set index(col) argument of read_csv() function \n",
    "- See pandas docs for other arguments avail for read_csv() to customize data import \n",
    "\n",
    "- EXAMPLE: index_col = 0\n",
    "- brics = pd.read_csv(\"path/to/filename.csv\", index_col = 0)\n",
    "- Ensures that rows & columns are labeled - impt for easily accessing rows, columns, single elements later "
   ]
  },
  {
   "cell_type": "markdown",
   "id": "d0686dbe",
   "metadata": {},
   "source": [
    "# 📊 Accessing Columns & Rows in pandas\n",
    "\n",
    "### Select a Column from a DataFrame\n",
    "\n",
    "- To select only the `'country'` column from `brics` ->\n",
    "  - Use square brackets with column name → `brics[\"country\"]`\n",
    "\n",
    "#### Example 🐍\n",
    "```python\n",
    "  brics[\"country\"]\n",
    "```\n",
    "- Selects the 'country' column from the DataFrame brics\n",
    "\n",
    "\n",
    "- 🔄 Returns \n",
    "  - 'country' column, row labels, and a ```series``` -> (Name: country, dtype: object)\n",
    "\n",
    "#### What is a ```Series```? \n",
    "  - A 1-dimensional labeled array \n",
    "  - Foundational building block of DataFrame - if you combine multiple Series, you get a DataFrame\n",
    "\n",
    "▶️ Run cell below"
   ]
  },
  {
   "cell_type": "code",
   "execution_count": null,
   "id": "5f879520",
   "metadata": {},
   "outputs": [],
   "source": [
    "brics[\"country\"]"
   ]
  }
 ],
 "metadata": {
  "kernelspec": {
   "display_name": "Python 3",
   "language": "python",
   "name": "python3"
  },
  "language_info": {
   "codemirror_mode": {
    "name": "ipython",
    "version": 3
   },
   "file_extension": ".py",
   "mimetype": "text/x-python",
   "name": "python",
   "nbconvert_exporter": "python",
   "pygments_lexer": "ipython3",
   "version": "3.12.1"
  }
 },
 "nbformat": 4,
 "nbformat_minor": 5
}
