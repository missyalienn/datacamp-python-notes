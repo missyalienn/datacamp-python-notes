{
 "cells": [
  {
   "cell_type": "markdown",
   "id": "53550dde",
   "metadata": {},
   "source": [
    "## 🐼 Pandas Part 1\n",
    "\n",
    "_Starting here — will go back and add earlier sections later._\n",
    "\n",
    "---"
   ]
  },
  {
   "cell_type": "markdown",
   "id": "d54c9d9f",
   "metadata": {
    "vscode": {
     "languageId": "plaintext"
    }
   },
   "source": [
    "### Creating a DataFrame in Pandas\n",
    "\n",
    "- Use 'pd.DataFrame()' to create DataFrame. \n",
    "- Pass data as dictionary or a list. \n",
    "- Specify column names if needed. \n",
    "\n",
    "#### DataFrame from Dictionary\n",
    "\n",
    "- Keys = Column Names \n",
    "- Values = Lists of Column Data\n"
   ]
  },
  {
   "cell_type": "code",
   "execution_count": null,
   "id": "56e608df",
   "metadata": {},
   "outputs": [],
   "source": [
    "dict = { \n",
    "    \"country\": [\"Brazil\", \"Russia\", \"India\", \"China\", \"South Africa\"], \n",
    "    \"capital\": [\"Brasilia\", \"Moscow\", \"New Delhi\", \"Beijing\", \"Pretoria\"],\n",
    "    \"area\": [8.516, 17.10, 3.286, 9.597, 1.221],\n",
    "    \"population\":[200.4, 143.5, 1252, 1357, 52.98]\n",
    "      }\n",
    "\n",
    "import pandas as pd \n",
    "brics = pd.DataFrame(dict)\n",
    "print(brics)"
   ]
  },
  {
   "cell_type": "code",
   "execution_count": null,
   "id": "31fb0f12",
   "metadata": {},
   "outputs": [],
   "source": [
    "dict2 = {\n",
    "    \"dog\": [\"panda\", \"bear\", \"lukas\", 'alfred',]\n",
    "}"
   ]
  }
 ],
 "metadata": {
  "kernelspec": {
   "display_name": "Python 3",
   "language": "python",
   "name": "python3"
  },
  "language_info": {
   "codemirror_mode": {
    "name": "ipython",
    "version": 3
   },
   "file_extension": ".py",
   "mimetype": "text/x-python",
   "name": "python",
   "nbconvert_exporter": "python",
   "pygments_lexer": "ipython3",
   "version": "3.12.1"
  }
 },
 "nbformat": 4,
 "nbformat_minor": 5
}
