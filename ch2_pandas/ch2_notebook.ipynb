{
 "cells": [
  {
   "cell_type": "markdown",
   "id": "53550dde",
   "metadata": {},
   "source": [
    "# 🐼 Pandas Part 1\n",
    "\n",
    "---"
   ]
  },
  {
   "cell_type": "markdown",
   "id": "f5431ff5",
   "metadata": {},
   "source": [
    "### 🏷️ How Labels Work in a DataFrame\n",
    "Before diving into DataFrames, it helps to understand how pandas uses *labels* to organize and access data.\n",
    "\n",
    "- **Row labels** \n",
    "  - Row labels come from the DataFrame’s index, which is an integer range by default (0, 1, 2)\n",
    "  - You can replace the default index with custom row labels (such as strings or dates) to better identify rows.\n",
    "  \n",
    "- **Column labels** \n",
    "  - are just the column names (usually strings)\n",
    "  - these are set automatically when you define a DataFrame or load data from csv, etc. "
   ]
  },
  {
   "cell_type": "markdown",
   "id": "d54c9d9f",
   "metadata": {
    "vscode": {
     "languageId": "plaintext"
    }
   },
   "source": [
    "### ✨ Creating DataFrames in pandas\n",
    "\n",
    "- Can create manually from dictionary, read from CSV, parquet, etc. \n",
    "\n",
    "#### 🧮 Create DataFrame from Dictionary \n",
    "- Use  `pd.DataFrame()` and pass a dictionary \n",
    "    - Keys = column names\n",
    "    - Values = column data as a `list`\n",
    "- Pandas creates a default row index (0, 1, 2) but you can set custom labels for easier row selection\n",
    "\n",
    "- To set your own row labels, set the DataFrame’s `index` attribute to a Python list w/ the labels you want.\n",
    "- Ex: `brics.index` = [\"BR\", \"RU\", \"IN\"]\n",
    "\n",
    " ▶️ Run cell below for example"
   ]
  },
  {
   "cell_type": "code",
   "execution_count": 20,
   "id": "56e608df",
   "metadata": {},
   "outputs": [
    {
     "name": "stdout",
     "output_type": "stream",
     "text": [
      "         country    capital    area  population\n",
      "BR        Brazil   Brasilia   8.516      200.40\n",
      "RU        Russia     Moscow  17.100      143.50\n",
      "IN         India  New Delhi   3.286     1252.00\n",
      "CH         China    Beijing   9.597     1357.00\n",
      "SA  South Africa   Pretoria   1.221       52.98\n"
     ]
    }
   ],
   "source": [
    "dict = { \n",
    "    \"country\": [\"Brazil\", \"Russia\", \"India\", \"China\", \"South Africa\"], \n",
    "    \"capital\": [\"Brasilia\", \"Moscow\", \"New Delhi\", \"Beijing\", \"Pretoria\"],\n",
    "    \"area\": [8.516, 17.10, 3.286, 9.597, 1.221],\n",
    "    \"population\":[200.4, 143.5, 1252, 1357, 52.98]\n",
    "      }\n",
    "import pandas as pd \n",
    "brics = pd.DataFrame(dict)\n",
    "brics.index = [\"BR\", \"RU\", \"IN\", \"CH\", \"SA\"]\n",
    "print(brics)"
   ]
  },
  {
   "cell_type": "markdown",
   "id": "9850e05e",
   "metadata": {},
   "source": [
    "### 🗂️ Create DataFrame from CSV\n",
    "- Use `pd.read_csv(\"filename.csv\")` to load data from a CSV file into a DataFrame.\n",
    "- By default, pandas adds a new column with row label being a numeric index (`0, 1, 2, ...`) unless specified otherwise.\n",
    "\n",
    "**If the first column contains row labels**: \n",
    "- tell pandas to use the first column as the index by setting  `index_col=0` \n",
    "- IMPT! Bc using row_labels as index enables easily accessing rows, columnns, or single elements. \n",
    "\n",
    "**If the first column does NOT contain row labels**: \n",
    "-  no need to set `index_col`; pandas will create a numeric index automatically."
   ]
  },
  {
   "cell_type": "markdown",
   "id": "3a2307b2",
   "metadata": {},
   "source": [
    "**Example: Read CSV with index_col = 0** \n",
    "- Use `pd.read_csv(\"brics.csv\", index_col=0)` to treat the first column in brics.csv as row labels.\n",
    "\n",
    "▶️ Run the cell below"
   ]
  },
  {
   "cell_type": "code",
   "execution_count": 21,
   "id": "8312fe40",
   "metadata": {},
   "outputs": [
    {
     "name": "stdout",
     "output_type": "stream",
     "text": [
      "     country    capital\n",
      "code                   \n",
      "BR    Brazil   Brasilia\n",
      "RU    Russia     Moscow\n",
      "IN    India   New Delhi\n"
     ]
    }
   ],
   "source": [
    "import pandas as pd \n",
    "df_with_index = pd.read_csv(\"brics.csv\", index_col= 0) \n",
    "print(df_with_index)"
   ]
  },
  {
   "cell_type": "markdown",
   "id": "ef937430",
   "metadata": {},
   "source": [
    "**Example: Read CSV without `index_col`**\n",
    "\n",
    "- Use `pd.read_csv(\"brics.csv\")` without specifying the index.  \n",
    "- In this example, the first column (`code`) already contains row labels.  \n",
    "- But since we *don’t* tell pandas to use it, pandas assigns a new integer-based index automatically.  \n",
    "- As a result, the DataFrame is indexed by integers *not* by the row labels (`code`) — which prevents label-based access (discussed further below).\n",
    "\n",
    "▶️ Run the cell below"
   ]
  },
  {
   "cell_type": "code",
   "execution_count": 22,
   "id": "b53d9787",
   "metadata": {},
   "outputs": [
    {
     "name": "stdout",
     "output_type": "stream",
     "text": [
      "  code country    capital\n",
      "0   BR  Brazil   Brasilia\n",
      "1   RU  Russia     Moscow\n",
      "2   IN  India   New Delhi\n"
     ]
    }
   ],
   "source": [
    "df_no_index = pd.read_csv(\"brics.csv\") \n",
    "print (df_no_index)"
   ]
  },
  {
   "cell_type": "markdown",
   "id": "29a62eac",
   "metadata": {},
   "source": [
    "### ✅ Summary\n",
    "- pandas creates a numeric index by default with read_csv() \n",
    "- ✅ If your CSV has no row labels, pandas creates a numeric index — you access rows by position (e.g., `iloc`).\n",
    "- ✅ If your CSV does have row labels, set `index_col=0`— this lets you access rows by label (e.g., `loc`).\n",
    "- ❌ If you forget `index_col=0` in the second case, pandas treats the row labels as data and still creates numeric index — which breaks label-based access later on. You won't be able to specify a row_label to access specific data. \n",
    "\n",
    "\n",
    "\n",
    "\n",
    "---\n"
   ]
  },
  {
   "cell_type": "markdown",
   "id": "9dbaa41e",
   "metadata": {},
   "source": [
    "### 🔎 **Accessing Columns & Rows in DataFrames**\n",
    "\n",
    "The following is about how to access specific columns and rows within a DataFrame."
   ]
  },
  {
   "cell_type": "markdown",
   "id": "d0686dbe",
   "metadata": {},
   "source": [
    "### Square Brackets (Limited)\n",
    "##### 🔹 Select specific columns/rows using brackets\n",
    "- Use square brackets with the column name → `brics[\"country\"]`\n",
    "  - Returns the column, row labels AND a series (Name: country, dtype: object)\n",
    "  - A `series` is like building building block of a DataFrame. If you paste a bunch of series together you get DataFrame\n",
    "- Use double square brakcets to return a DataFrame -> `brics[[\"country]]\n",
    "\n",
    " - You can also select rows manually  using a slice but this is limited (Ex: `brics`[1:4])\n",
    "\n",
    "**Example: Select 'country' column only** \n",
    "\n",
    "▶️ Run the cells below"
   ]
  },
  {
   "cell_type": "code",
   "execution_count": 23,
   "id": "5f879520",
   "metadata": {},
   "outputs": [
    {
     "data": {
      "text/plain": [
       "BR          Brazil\n",
       "RU          Russia\n",
       "IN           India\n",
       "CH           China\n",
       "SA    South Africa\n",
       "Name: country, dtype: object"
      ]
     },
     "execution_count": 23,
     "metadata": {},
     "output_type": "execute_result"
    }
   ],
   "source": [
    "brics[\"country\"]"
   ]
  },
  {
   "cell_type": "code",
   "execution_count": 24,
   "id": "4f05e7b0",
   "metadata": {},
   "outputs": [
    {
     "data": {
      "text/html": [
       "<div>\n",
       "<style scoped>\n",
       "    .dataframe tbody tr th:only-of-type {\n",
       "        vertical-align: middle;\n",
       "    }\n",
       "\n",
       "    .dataframe tbody tr th {\n",
       "        vertical-align: top;\n",
       "    }\n",
       "\n",
       "    .dataframe thead th {\n",
       "        text-align: right;\n",
       "    }\n",
       "</style>\n",
       "<table border=\"1\" class=\"dataframe\">\n",
       "  <thead>\n",
       "    <tr style=\"text-align: right;\">\n",
       "      <th></th>\n",
       "      <th>country</th>\n",
       "    </tr>\n",
       "  </thead>\n",
       "  <tbody>\n",
       "    <tr>\n",
       "      <th>BR</th>\n",
       "      <td>Brazil</td>\n",
       "    </tr>\n",
       "    <tr>\n",
       "      <th>RU</th>\n",
       "      <td>Russia</td>\n",
       "    </tr>\n",
       "    <tr>\n",
       "      <th>IN</th>\n",
       "      <td>India</td>\n",
       "    </tr>\n",
       "    <tr>\n",
       "      <th>CH</th>\n",
       "      <td>China</td>\n",
       "    </tr>\n",
       "    <tr>\n",
       "      <th>SA</th>\n",
       "      <td>South Africa</td>\n",
       "    </tr>\n",
       "  </tbody>\n",
       "</table>\n",
       "</div>"
      ],
      "text/plain": [
       "         country\n",
       "BR        Brazil\n",
       "RU        Russia\n",
       "IN         India\n",
       "CH         China\n",
       "SA  South Africa"
      ]
     },
     "execution_count": 24,
     "metadata": {},
     "output_type": "execute_result"
    }
   ],
   "source": [
    "brics[[\"country\"]]"
   ]
  },
  {
   "cell_type": "markdown",
   "id": "e7847c71",
   "metadata": {},
   "source": [
    "### .loc and .iloc \n",
    "Pandas uses .loc and .iloc to access specific rows \n",
    "\n",
    "- `.loc[]` - access rows by label (e.g., 'code' column in brics.csv)\n",
    "- `.iloc[]` - access row by index position \n",
    "\n",
    "Example: \n",
    "- Access all data with row label \"RU\" for Russia \n",
    "▶️ Run cell below"
   ]
  },
  {
   "cell_type": "code",
   "execution_count": 25,
   "id": "aab0b765",
   "metadata": {},
   "outputs": [
    {
     "data": {
      "text/html": [
       "<div>\n",
       "<style scoped>\n",
       "    .dataframe tbody tr th:only-of-type {\n",
       "        vertical-align: middle;\n",
       "    }\n",
       "\n",
       "    .dataframe tbody tr th {\n",
       "        vertical-align: top;\n",
       "    }\n",
       "\n",
       "    .dataframe thead th {\n",
       "        text-align: right;\n",
       "    }\n",
       "</style>\n",
       "<table border=\"1\" class=\"dataframe\">\n",
       "  <thead>\n",
       "    <tr style=\"text-align: right;\">\n",
       "      <th></th>\n",
       "      <th>country</th>\n",
       "      <th>capital</th>\n",
       "      <th>area</th>\n",
       "      <th>population</th>\n",
       "    </tr>\n",
       "  </thead>\n",
       "  <tbody>\n",
       "    <tr>\n",
       "      <th>RU</th>\n",
       "      <td>Russia</td>\n",
       "      <td>Moscow</td>\n",
       "      <td>17.1</td>\n",
       "      <td>143.5</td>\n",
       "    </tr>\n",
       "  </tbody>\n",
       "</table>\n",
       "</div>"
      ],
      "text/plain": [
       "   country capital  area  population\n",
       "RU  Russia  Moscow  17.1       143.5"
      ]
     },
     "execution_count": 25,
     "metadata": {},
     "output_type": "execute_result"
    }
   ],
   "source": [
    "brics.loc[['RU']]"
   ]
  },
  {
   "cell_type": "markdown",
   "id": "45fbf21f",
   "metadata": {},
   "source": [
    "#### Row & Column .loc [ ]\n",
    "- Access all data with row labels: RU, IN, CH AND column labels \"country\" and \"capital\""
   ]
  },
  {
   "cell_type": "code",
   "execution_count": 26,
   "id": "19cb38ae",
   "metadata": {},
   "outputs": [
    {
     "data": {
      "text/html": [
       "<div>\n",
       "<style scoped>\n",
       "    .dataframe tbody tr th:only-of-type {\n",
       "        vertical-align: middle;\n",
       "    }\n",
       "\n",
       "    .dataframe tbody tr th {\n",
       "        vertical-align: top;\n",
       "    }\n",
       "\n",
       "    .dataframe thead th {\n",
       "        text-align: right;\n",
       "    }\n",
       "</style>\n",
       "<table border=\"1\" class=\"dataframe\">\n",
       "  <thead>\n",
       "    <tr style=\"text-align: right;\">\n",
       "      <th></th>\n",
       "      <th>country</th>\n",
       "      <th>capital</th>\n",
       "    </tr>\n",
       "  </thead>\n",
       "  <tbody>\n",
       "    <tr>\n",
       "      <th>RU</th>\n",
       "      <td>Russia</td>\n",
       "      <td>Moscow</td>\n",
       "    </tr>\n",
       "    <tr>\n",
       "      <th>IN</th>\n",
       "      <td>India</td>\n",
       "      <td>New Delhi</td>\n",
       "    </tr>\n",
       "    <tr>\n",
       "      <th>CH</th>\n",
       "      <td>China</td>\n",
       "      <td>Beijing</td>\n",
       "    </tr>\n",
       "  </tbody>\n",
       "</table>\n",
       "</div>"
      ],
      "text/plain": [
       "   country    capital\n",
       "RU  Russia     Moscow\n",
       "IN   India  New Delhi\n",
       "CH   China    Beijing"
      ]
     },
     "execution_count": 26,
     "metadata": {},
     "output_type": "execute_result"
    }
   ],
   "source": [
    "brics.loc[[\"RU\", \"IN\", \"CH\"],[\"country\", \"capital\"]] "
   ]
  },
  {
   "cell_type": "markdown",
   "id": "d021012a",
   "metadata": {},
   "source": [
    "###  ✅ Summary \n",
    "#### Square Brackets access\n",
    "\n",
    "- Column access: brics[[\"country\", \"capital\"]]\n",
    "- Row access (only through slicing): brics[1:4]\n",
    "\n",
    "#### .loc - label-based access\n",
    "\n",
    "- Row access: `brics.loc[[\"RU\", \"IN\", \"CH\"]]`\n",
    "- Column access: `brics.loc[:, [\"country\"]]`\n",
    "- Row & Column access:`brics.loc[[\"RU\", \"IN\"], [\"country\", \"capital\"]]`"
   ]
  }
 ],
 "metadata": {
  "kernelspec": {
   "display_name": "Python 3",
   "language": "python",
   "name": "python3"
  },
  "language_info": {
   "codemirror_mode": {
    "name": "ipython",
    "version": 3
   },
   "file_extension": ".py",
   "mimetype": "text/x-python",
   "name": "python",
   "nbconvert_exporter": "python",
   "pygments_lexer": "ipython3",
   "version": "3.12.1"
  }
 },
 "nbformat": 4,
 "nbformat_minor": 5
}
