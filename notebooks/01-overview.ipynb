{
 "cells": [
  {
   "cell_type": "markdown",
   "id": "0acdc018",
   "metadata": {},
   "source": [
    "# Overview\n",
    "\n",
    "This repo contains a series of beginner-friendly Python notebooks covering foundational intermediate topics: \n",
    "\n",
    "- Working with pandas DataFrames\n",
    "- Logic and control flow in Python\n",
    "- Looping and iteration\n",
    "- A mini case study on random walks\n",
    "- Plotting with Matplotlib\n",
    "\n",
    "Each notebook contains detailed notes and code examples for key concepts.\n",
    "\n",
    "All code is written and run locally using Jupyter Notebook and datasets are included in the `/data` folder.\n"
   ]
  }
 ],
 "metadata": {
  "language_info": {
   "name": "python"
  }
 },
 "nbformat": 4,
 "nbformat_minor": 5
}
