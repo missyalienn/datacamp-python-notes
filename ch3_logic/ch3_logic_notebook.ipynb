{
 "cells": [
  {
   "cell_type": "markdown",
   "id": "1bc05339",
   "metadata": {},
   "source": [
    "# ✏️ Logic + Filtering\n",
    "Topics include: comparison operators, logic + control flow, and filtering DataFrames. "
   ]
  },
  {
   "cell_type": "markdown",
   "id": "38cf4233",
   "metadata": {},
   "source": [
    "## 🧭 Table of Contents\n",
    "\n",
    "- [📍Comparison + Boolean Operations](#✅-comparison-+-boolean-operations)\n",
    "- [📍 Logic & Control Flow ](#✅-logic-&-control-flow)\n",
    "- [📝 Notes](#📝-notes)"
   ]
  },
  {
   "cell_type": "markdown",
   "id": "90289fc1",
   "metadata": {},
   "source": [
    "## 📍 Comparison & Boolean Operations "
   ]
  },
  {
   "cell_type": "markdown",
   "id": "570280a8",
   "metadata": {},
   "source": [
    "### Comparison Operators \n",
    "  Used to compare values — result is a Boolean (`True` or `False`). Can be used with integers and strings. \n",
    "  - Numeric comparisons (`==`, `!=`, `<`, `>`, `<=`, `>=`)\n",
    "  - String comparisons (lexical order, equality)\n",
    "  \n",
    "[💡 Examples:](#💡-Examples) [▶️ Run cells below](#▶️-run-cells-below)"
   ]
  },
  {
   "cell_type": "code",
   "execution_count": null,
   "id": "962b9e4e",
   "metadata": {},
   "outputs": [],
   "source": [
    "#Comparison Operators \n",
    "#== \n",
    "a = 5\n",
    "b = 5 \n",
    "print(a == b)\n",
    "#!=\n",
    "x = 5\n",
    "y = 10\n",
    "print(x != y) \n",
    "#> and <\n",
    "print(2<3)\n",
    "print('carl' < 'chris')\n",
    "\n",
    "#>= and <= \n",
    "c = 9\n",
    "d = 11\n",
    "print(c >= d)"
   ]
  },
  {
   "cell_type": "markdown",
   "id": "1fe1810b",
   "metadata": {},
   "source": [
    "### Boolean Operators\n",
    "Used to combine or modify boolean expressions (expressions that evaluate to either `True` or `False`)\n",
    "- `and`, `or`, `not`\n",
    "\n",
    "  - `or`: results in `True` if any side is `True`  \n",
    "    **Example:** `True or False` → `True`\n",
    "\n",
    "  - `not`: reverses the Boolean value immediately after it  \n",
    "    **Example:** `not True` → `False`  \n",
    "    *Note:* `not` is evaluated first due to operator precedence.\n",
    "\n",
    "**Reminder:** `not` only applies to the first operand in an expression.\n",
    "\n",
    "- `not True or False`  \n",
    "  Python reads as: `(not True) or False` → `False or False` → `False`\n",
    "\n",
    "\n",
    "[💡 Examples:](#💡-Examples) [▶️ Run cells below](#▶️-run-cells-below)"
   ]
  },
  {
   "cell_type": "code",
   "execution_count": null,
   "id": "57192e5f",
   "metadata": {},
   "outputs": [],
   "source": [
    "#Boolean AND\n",
    "my_kitchen = 18.0\n",
    "your_kitchen = 14.0 \n",
    "\n",
    "print(my_kitchen >10 and your_kitchen <18)"
   ]
  },
  {
   "cell_type": "code",
   "execution_count": null,
   "id": "bba41c43",
   "metadata": {},
   "outputs": [],
   "source": [
    "#Boolean OR\n",
    "my_kitchen = 18.0\n",
    "your_kitchen = 14.0 \n",
    "my_kitchen < 14 or my_kitchen > 17 "
   ]
  },
  {
   "cell_type": "code",
   "execution_count": null,
   "id": "810a2894",
   "metadata": {},
   "outputs": [],
   "source": [
    "#Boolean NOT\n",
    "print(not True)\n",
    "print (not False) "
   ]
  },
  {
   "cell_type": "code",
   "execution_count": null,
   "id": "31a59525",
   "metadata": {},
   "outputs": [],
   "source": [
    "#NOT Applies Only to First Operand\n",
    "print(not True or False) \n",
    "# Explanation: evaluated as (not True) or False -> False or False -> False"
   ]
  },
  {
   "cell_type": "code",
   "execution_count": null,
   "id": "c1ce47f1",
   "metadata": {},
   "outputs": [],
   "source": [
    "#Use Parentheses to Change Order\n",
    "print(not (True or False)) \n",
    "# Explanation: evaluated as not (True or False) -> not True -> False"
   ]
  },
  {
   "cell_type": "code",
   "execution_count": null,
   "id": "97ddc855",
   "metadata": {},
   "outputs": [],
   "source": [
    "#NOT on Both Operands\n",
    "print(not True or not False) \n",
    "# Explanation: (not True) or (not False) -> False or True -> True"
   ]
  },
  {
   "cell_type": "code",
   "execution_count": null,
   "id": "88187220",
   "metadata": {},
   "outputs": [],
   "source": [
    "#Complex NOT Precedence \n",
    "x = 8 \n",
    "y = 9 \n",
    "print(not(not(x < 3) and not(y > 14 or y > 10)))  \n",
    "\n",
    "#Explanation: \n",
    "# (x < 3 → False → not False → True) \n",
    "# (y > 14 or y > 10 → False → not False → True)\n",
    "# True and True → True → not True → False\n"
   ]
  },
  {
   "cell_type": "markdown",
   "id": "5c162dd9",
   "metadata": {},
   "source": [
    "**Step-by-step Explanation - Complex NOT**\n",
    "1. Evaluate first expression: `x < 3` → `False`  \n",
    "2. Evaluate with not: `not (x < 3)` → `not (False)` = `True`\n",
    "\n",
    "3. Evaluate second expression: `y > 14 or y > 10` → `False or False` -> `False` \n",
    "4. Evaluate with not `not (y > 14 or y > 10)` → `not (False)` =  `True`\n",
    "\n",
    "7. Combine with `and`:  \n",
    "   `True and True` → `True`\n",
    "\n",
    "8. Evalute with final outermost `not`:  \n",
    "   `not (True)` → `False`\n",
    "\n",
    "**Summary** \n",
    "   - The two inner most `nots` are compared and each result in -> `True` \n",
    "\n",
    "\n",
    "   - AND combines the two `True` values -> `True` AND `True` -> `True`\n",
    "\n",
    "   \n",
    "   - The outermost `not` (immediately after print()) reverses `True` to `False`\n"
   ]
  },
  {
   "cell_type": "markdown",
   "id": "a56ebde7",
   "metadata": {},
   "source": [
    "## 📍 Logic + Control Flow "
   ]
  },
  {
   "cell_type": "markdown",
   "id": "bc58d134",
   "metadata": {},
   "source": [
    "### Logical Operations - NumPy Functions\n",
    "Use the following functions with Boolean operators to compare `arrays` in NumPy\n",
    "- `np.logical_and()`\n",
    "- `np.logical_or()`\n",
    "- `np.logical_not()`\n",
    "\n",
    "\n",
    "[💡 Examples:](#💡-Examples) [▶️ Run cells below](#▶️-run-cells-below)"
   ]
  },
  {
   "cell_type": "code",
   "execution_count": null,
   "id": "203ca5a8",
   "metadata": {},
   "outputs": [],
   "source": [
    "# NumPy Logical Operations \n",
    "import numpy as np\n",
    "my_house = np.array([18, 20, 10.75, 9.5])\n",
    "your_house = np.array([14, 24, 14.25, 9])\n",
    "\n",
    "#Which areas in my_house are greater than 18.5 OR smaller than 10? \n",
    "print(np.logical_or(my_house > 18.5, my_house <10))\n",
    "#Both my_house and your_house smaller than 11\n",
    "print(np.logical_and(my_house < 11, your_house <11))"
   ]
  },
  {
   "cell_type": "markdown",
   "id": "f6fe150f",
   "metadata": {},
   "source": [
    "### Control Flow - Conditional Statements\n",
    "\n",
    "Conditional statements let you control which code runs based on whether a condition is True or False.\n",
    "\n",
    "- `if`: runs a block of code only if a condition is `True`\n",
    "\n",
    "\n",
    "- `else`: runs a block of code if **none** of the above conditions were `True`\n",
    "\n",
    "\n",
    "- `elif`: checks another condition if the previous one was `False`\n",
    "\n",
    "[💡 Examples:](#💡-Examples)  [▶️ Run cells below](#▶️-run-cells-below)"
   ]
  },
  {
   "cell_type": "code",
   "execution_count": null,
   "id": "00f5cc8e",
   "metadata": {},
   "outputs": [],
   "source": [
    "# if construct \n",
    "# Define variables\n",
    "room = \"kit\"\n",
    "area = 14.0\n",
    "\n",
    "# if statement for room\n",
    "if room == \"kit\" :\n",
    "    print(\"looking around in the kitchen.\")\n",
    "\n",
    "# if statement for area\n",
    "if area > 15 : \n",
    "    print(\"big place!\")"
   ]
  },
  {
   "cell_type": "code",
   "execution_count": null,
   "id": "731ffb35",
   "metadata": {},
   "outputs": [],
   "source": [
    "#if - else construct\n",
    "room = \"kit\"\n",
    "area = 14.0\n",
    "\n",
    "#if-else: room \n",
    "if room == \"kit\" :\n",
    "    print(\"looking around in the kitchen.\")\n",
    "else: \n",
    "    print(\"looking around elsewhere\")\n",
    "\n",
    "#if-else: area \n",
    "if area > 15: \n",
    "    print(\"big place!\")\n",
    "else : \n",
    "    print(\"pretty small\")\n"
   ]
  },
  {
   "cell_type": "code",
   "execution_count": null,
   "id": "a639c91e",
   "metadata": {},
   "outputs": [],
   "source": [
    "# if-elif-else \n",
    "room = \"bed\"\n",
    "area = 14.0\n",
    "\n",
    "#if-elif-else construct for room \n",
    "if room == \"kit\" :\n",
    "    print(\"looking around in the kitchen.\")\n",
    "elif room == \"bed\":\n",
    "    print(\"looking around in the bedroom.\")\n",
    "else :\n",
    "    print(\"looking around elsewhere.\")\n",
    "\n",
    "# if-elif-else construct for area\n",
    "if area > 15 :\n",
    "    print(\"big place!\")\n",
    "elif area > 10: \n",
    "    print(\"medium size, nice!\")\n",
    "else :\n",
    "    print(\"pretty small.\")"
   ]
  },
  {
   "cell_type": "markdown",
   "id": "115e9e64",
   "metadata": {},
   "source": [
    "## 📍 Filtering Pandas DataFrames"
   ]
  },
  {
   "cell_type": "markdown",
   "id": "8dedcc43",
   "metadata": {},
   "source": [
    "### Select a Subset in a DataFrame\n",
    "\n",
    "Example:  Select countries in brics.csv with area greater than 8million km\n",
    "\n",
    "- Select the desired column (area)\n",
    "- Perform a comparison on that column \n",
    "- Use the result to select countries \n",
    "\n",
    "[💡 Example](#💡-Example) [▶️ Run cell below](#▶️-run-cell-below)\n"
   ]
  },
  {
   "cell_type": "markdown",
   "id": "ded40cdd",
   "metadata": {},
   "source": [
    "## 📝 Notes\n",
    "\n",
    "- Common gotchas\n",
    "- Syntax reminders\n",
    "- TODO: Fill in real-world example"
   ]
  }
 ],
 "metadata": {
  "kernelspec": {
   "display_name": "Python 3",
   "language": "python",
   "name": "python3"
  },
  "language_info": {
   "codemirror_mode": {
    "name": "ipython",
    "version": 3
   },
   "file_extension": ".py",
   "mimetype": "text/x-python",
   "name": "python",
   "nbconvert_exporter": "python",
   "pygments_lexer": "ipython3",
   "version": "3.12.1"
  }
 },
 "nbformat": 4,
 "nbformat_minor": 5
}
