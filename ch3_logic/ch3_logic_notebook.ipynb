{
 "cells": [
  {
   "cell_type": "markdown",
   "id": "1bc05339",
   "metadata": {},
   "source": [
    "# ✏️ Logic + Filtering\n",
    "Topics include: comparison operators, logic + control flow, and filtering DataFrames. "
   ]
  },
  {
   "cell_type": "markdown",
   "id": "38cf4233",
   "metadata": {},
   "source": [
    "## 🧭 Table of Contents\n",
    "\n",
    "- [✅ Concept 1: Concept 1 Title](#✅-concept-1-title)\n",
    "- [✅ Concept 2: Concept 2 Title ](#✅-concept-2-title)\n",
    "- [📝 Notes](#📝-notes)"
   ]
  },
  {
   "cell_type": "markdown",
   "id": "90289fc1",
   "metadata": {},
   "source": [
    "## ✅ Comparison Operators\n",
    "\n",
    " Comparison operators are used to compare relationship btwn values and return a Boolean. Can be used with integers, floats, and strings. \n",
    "- Numeric & String Operators \n",
    "    - Ex: 2<3 = true\n",
    "    - \"carl\" < \"chris\" = true\n",
    "- Boolean Operators\n",
    "    - `and`, `or`, `not`\n",
    "    - Note: `not` has higher priority than `and` and `or` and is executed first. \n",
    "\n",
    "[💡 Example:](#💡-Example)\n",
    "[▶️ Run cells below](#▶️-run-cell-below)\n",
    "\n"
   ]
  },
  {
   "cell_type": "code",
   "execution_count": null,
   "id": "57192e5f",
   "metadata": {},
   "outputs": [],
   "source": [
    "#Boolean AND\n",
    "my_kitchen = 18.0\n",
    "your_kitchen = 14.0 \n",
    "\n",
    "my_kitchen >10 and your_kitchen <18 "
   ]
  },
  {
   "cell_type": "code",
   "execution_count": null,
   "id": "bba41c43",
   "metadata": {},
   "outputs": [],
   "source": [
    "#Boolean OR\n",
    "my_kitchen = 18.0\n",
    "your_kitchen = 14.0 \n",
    "my_kitchen < 14 or my_kitchen > 17 "
   ]
  },
  {
   "cell_type": "code",
   "execution_count": null,
   "id": "810a2894",
   "metadata": {},
   "outputs": [],
   "source": [
    "#Boolean NOT\n",
    "x = 8\n",
    "y = 9\n",
    "not(not(x < 3) and not(y > 14 or y > 10))\n",
    "\n",
    "#Explanation: x < 3 is False. y > 14 or y > 10 is False. Continue simplifying from inside out, you get False"
   ]
  },
  {
   "cell_type": "markdown",
   "id": "a56ebde7",
   "metadata": {},
   "source": [
    "## ✅ Logic + Control Flow \n",
    "Comparing arrays in NumPy \n",
    "- `logical_and()`\n",
    "- `logical_or()`\n",
    "- `logical_not()`"
   ]
  },
  {
   "cell_type": "code",
   "execution_count": null,
   "id": "203ca5a8",
   "metadata": {},
   "outputs": [],
   "source": [
    "# Code Example\n"
   ]
  },
  {
   "cell_type": "markdown",
   "id": "ded40cdd",
   "metadata": {},
   "source": [
    "## 📝 Notes\n",
    "\n",
    "- Common gotchas\n",
    "- Syntax reminders\n",
    "- TODO: Fill in real-world example"
   ]
  }
 ],
 "metadata": {
  "kernelspec": {
   "display_name": "Python 3",
   "language": "python",
   "name": "python3"
  },
  "language_info": {
   "codemirror_mode": {
    "name": "ipython",
    "version": 3
   },
   "file_extension": ".py",
   "mimetype": "text/x-python",
   "name": "python",
   "nbconvert_exporter": "python",
   "pygments_lexer": "ipython3",
   "version": "3.12.1"
  }
 },
 "nbformat": 4,
 "nbformat_minor": 5
}
