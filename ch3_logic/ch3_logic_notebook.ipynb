{
 "cells": [
  {
   "cell_type": "markdown",
   "id": "1bc05339",
   "metadata": {},
   "source": [
    "# ✏️ Logic + Filtering\n",
    "Topics include: comparison operators, logic + control flow, and filtering DataFrames. "
   ]
  },
  {
   "cell_type": "markdown",
   "id": "38cf4233",
   "metadata": {},
   "source": [
    "## 🧭 Table of Contents\n",
    "\n",
    "- [📍Comparison + Boolean Operations](#✅-comparison-+-boolean-operations)\n",
    "- [📍 Logic & Control Flow ](#✅-logic-&-control-flow)\n",
    "- [📝 Notes](#📝-notes)"
   ]
  },
  {
   "cell_type": "markdown",
   "id": "90289fc1",
   "metadata": {},
   "source": [
    "## 📍 Comparison & Boolean Operations "
   ]
  },
  {
   "cell_type": "markdown",
   "id": "570280a8",
   "metadata": {},
   "source": [
    "### Comparison Operators \n",
    "  Used to compare values — result is a Boolean (`True` or `False`). Can be used with integers and strings. \n",
    "  - Numeric comparisons (`==`, `!=`, `<`, `>`, `<=`, `>=`)\n",
    "  - String comparisons (lexical order, equality)\n",
    "  \n",
    "[💡 Examples:](#💡-Examples) [▶️ Run cells below](#▶️-run-cells-below)"
   ]
  },
  {
   "cell_type": "code",
   "execution_count": 2,
   "id": "962b9e4e",
   "metadata": {},
   "outputs": [
    {
     "name": "stdout",
     "output_type": "stream",
     "text": [
      "True\n",
      "True\n",
      "True\n",
      "True\n",
      "False\n"
     ]
    }
   ],
   "source": [
    "#Comparison Operators \n",
    "#== \n",
    "a = 5\n",
    "b = 5 \n",
    "print(a == b)\n",
    "#!=\n",
    "x = 5\n",
    "y = 10\n",
    "print(x != y) \n",
    "#> and <\n",
    "print(2<3)\n",
    "print('carl' < 'chris')\n",
    "\n",
    "#>= and <= \n",
    "c = 9\n",
    "d = 11\n",
    "print(c >= d)"
   ]
  },
  {
   "cell_type": "markdown",
   "id": "1fe1810b",
   "metadata": {},
   "source": [
    "### Boolean Operators\n",
    "Used to combine or modify boolean expressions (expressions that evaluate to either `True` or `False`)\n",
    "- `and`, `or`, `not`\n",
    "\n",
    "  - `or`: results in `True` if any side is `True`  \n",
    "    **Example:** `True or False` → `True`\n",
    "\n",
    "  - `not`: reverses the Boolean value immediately after it  \n",
    "    **Example:** `not True` → `False`  \n",
    "    *Note:* `not` is evaluated first due to operator precedence.\n",
    "\n",
    "**Reminder:** `not` only applies to the first operand in an expression.\n",
    "\n",
    "- `not True or False`  \n",
    "  Python reads as: `(not True) or False` → `False or False` → `False`\n",
    "\n",
    "\n",
    "[💡 Examples:](#💡-Examples) [▶️ Run cells below](#▶️-run-cells-below)"
   ]
  },
  {
   "cell_type": "code",
   "execution_count": 3,
   "id": "57192e5f",
   "metadata": {},
   "outputs": [
    {
     "name": "stdout",
     "output_type": "stream",
     "text": [
      "True\n"
     ]
    }
   ],
   "source": [
    "#Boolean AND\n",
    "my_kitchen = 18.0\n",
    "your_kitchen = 14.0 \n",
    "\n",
    "print(my_kitchen >10 and your_kitchen <18)"
   ]
  },
  {
   "cell_type": "code",
   "execution_count": 4,
   "id": "bba41c43",
   "metadata": {},
   "outputs": [
    {
     "data": {
      "text/plain": [
       "True"
      ]
     },
     "execution_count": 4,
     "metadata": {},
     "output_type": "execute_result"
    }
   ],
   "source": [
    "#Boolean OR\n",
    "my_kitchen = 18.0\n",
    "your_kitchen = 14.0 \n",
    "my_kitchen < 14 or my_kitchen > 17 "
   ]
  },
  {
   "cell_type": "code",
   "execution_count": 21,
   "id": "810a2894",
   "metadata": {},
   "outputs": [
    {
     "name": "stdout",
     "output_type": "stream",
     "text": [
      "False\n",
      "True\n"
     ]
    }
   ],
   "source": [
    "#Boolean NOT\n",
    "print(not True)\n",
    "print (not False) "
   ]
  },
  {
   "cell_type": "code",
   "execution_count": 6,
   "id": "31a59525",
   "metadata": {},
   "outputs": [
    {
     "name": "stdout",
     "output_type": "stream",
     "text": [
      "False\n"
     ]
    }
   ],
   "source": [
    "#NOT Applies Only to First Operand\n",
    "print(not True or False) \n",
    "# Explanation: evaluated as (not True) or False -> False or False -> False"
   ]
  },
  {
   "cell_type": "code",
   "execution_count": 7,
   "id": "c1ce47f1",
   "metadata": {},
   "outputs": [
    {
     "name": "stdout",
     "output_type": "stream",
     "text": [
      "False\n"
     ]
    }
   ],
   "source": [
    "#Use Parentheses to Change Order\n",
    "print(not (True or False)) \n",
    "# Explanation: evaluated as not (True or False) -> not True -> False"
   ]
  },
  {
   "cell_type": "code",
   "execution_count": 20,
   "id": "97ddc855",
   "metadata": {},
   "outputs": [
    {
     "name": "stdout",
     "output_type": "stream",
     "text": [
      "True\n"
     ]
    }
   ],
   "source": [
    "#NOT on Both Operands\n",
    "print(not True or not False) \n",
    "# Explanation: (not True) or (not False) -> False or True -> True"
   ]
  },
  {
   "cell_type": "code",
   "execution_count": 9,
   "id": "88187220",
   "metadata": {},
   "outputs": [
    {
     "name": "stdout",
     "output_type": "stream",
     "text": [
      "False\n"
     ]
    }
   ],
   "source": [
    "#Complex NOT Precedence \n",
    "x = 8 \n",
    "y = 9 \n",
    "print(not(not(x < 3) and not(y > 14 or y > 10)))  \n",
    "\n",
    "#Explanation: \n",
    "# (x < 3 → False → not False → True) \n",
    "# (y > 14 or y > 10 → False → not False → True)\n",
    "# True and True → True → not True → False\n"
   ]
  },
  {
   "cell_type": "markdown",
   "id": "5c162dd9",
   "metadata": {},
   "source": [
    "**Step-by-step Explanation - Complex NOT**\n",
    "1. Evaluate first expression: `x < 3` → `False`  \n",
    "2. Evaluate with not: `not (x < 3)` → `not (False)` = `True`\n",
    "\n",
    "3. Evaluate second expression: `y > 14 or y > 10` → `False or False` -> `False` \n",
    "4. Evaluate with not `not (y > 14 or y > 10)` → `not (False)` =  `True`\n",
    "\n",
    "7. Combine with `and`:  \n",
    "   `True and True` → `True`\n",
    "\n",
    "8. Evalute with final outermost `not`:  \n",
    "   `not (True)` → `False`\n",
    "\n",
    "**Summary** \n",
    "   - The two inner most `nots` are compared and each result in -> `True` \n",
    "\n",
    "\n",
    "   - AND combines the two `True` values -> `True` AND `True` -> `True`\n",
    "\n",
    "   \n",
    "   - The outermost `not` (immediately after print()) reverses `True` to `False`\n"
   ]
  },
  {
   "cell_type": "markdown",
   "id": "a56ebde7",
   "metadata": {},
   "source": [
    "## 📍 Logic + Control Flow "
   ]
  },
  {
   "cell_type": "markdown",
   "id": "bc58d134",
   "metadata": {},
   "source": [
    "### Logical Operations - NumPy Functions\n",
    "Use the following functions with Boolean operators to compare `arrays` in NumPy\n",
    "- `np.logical_and()`\n",
    "- `np.logical_or()`\n",
    "- `np.logical_not()`\n",
    "\n",
    "\n",
    "[💡 Examples:](#💡-Examples) [▶️ Run cells below](#▶️-run-cells-below)"
   ]
  },
  {
   "cell_type": "code",
   "execution_count": 10,
   "id": "203ca5a8",
   "metadata": {},
   "outputs": [
    {
     "name": "stdout",
     "output_type": "stream",
     "text": [
      "[False  True False  True]\n",
      "[False False False  True]\n"
     ]
    }
   ],
   "source": [
    "# NumPy Logical Operations \n",
    "import numpy as np\n",
    "my_house = np.array([18, 20, 10.75, 9.5])\n",
    "your_house = np.array([14, 24, 14.25, 9])\n",
    "\n",
    "#Which areas in my_house are greater than 18.5 OR smaller than 10? \n",
    "print(np.logical_or(my_house > 18.5, my_house <10))\n",
    "#Both my_house and your_house smaller than 11\n",
    "print(np.logical_and(my_house < 11, your_house <11))"
   ]
  },
  {
   "cell_type": "markdown",
   "id": "f6fe150f",
   "metadata": {},
   "source": [
    "### Control Flow - Conditional Statements\n",
    "\n",
    "Conditional statements let you control which code runs based on whether a condition is True or False.\n",
    "\n",
    "- `if`: runs a block of code only if a condition is `True`\n",
    "\n",
    "\n",
    "- `else`: runs a block of code if **none** of the above conditions were `True`\n",
    "\n",
    "\n",
    "- `elif`: checks another condition if the previous one was `False`\n",
    "\n",
    "[💡 Examples:](#💡-Examples)  [▶️ Run cells below](#▶️-run-cells-below)"
   ]
  },
  {
   "cell_type": "code",
   "execution_count": 11,
   "id": "00f5cc8e",
   "metadata": {},
   "outputs": [
    {
     "name": "stdout",
     "output_type": "stream",
     "text": [
      "looking around in the kitchen.\n"
     ]
    }
   ],
   "source": [
    "# if construct \n",
    "# Define variables\n",
    "room = \"kit\"\n",
    "area = 14.0\n",
    "\n",
    "# if statement for room\n",
    "if room == \"kit\" :\n",
    "    print(\"looking around in the kitchen.\")\n",
    "\n",
    "# if statement for area\n",
    "if area > 15 : \n",
    "    print(\"big place!\")"
   ]
  },
  {
   "cell_type": "code",
   "execution_count": 12,
   "id": "731ffb35",
   "metadata": {},
   "outputs": [
    {
     "name": "stdout",
     "output_type": "stream",
     "text": [
      "looking around in the kitchen.\n",
      "pretty small\n"
     ]
    }
   ],
   "source": [
    "#if - else construct\n",
    "room = \"kit\"\n",
    "area = 14.0\n",
    "\n",
    "#if-else: room \n",
    "if room == \"kit\" :\n",
    "    print(\"looking around in the kitchen.\")\n",
    "else: \n",
    "    print(\"looking around elsewhere\")\n",
    "\n",
    "#if-else: area \n",
    "if area > 15: \n",
    "    print(\"big place!\")\n",
    "else : \n",
    "    print(\"pretty small\")\n"
   ]
  },
  {
   "cell_type": "code",
   "execution_count": 13,
   "id": "a639c91e",
   "metadata": {},
   "outputs": [
    {
     "name": "stdout",
     "output_type": "stream",
     "text": [
      "looking around in the bedroom.\n",
      "medium size, nice!\n"
     ]
    }
   ],
   "source": [
    "# if-elif-else \n",
    "room = \"bed\"\n",
    "area = 14.0\n",
    "\n",
    "#if-elif-else construct for room \n",
    "if room == \"kit\" :\n",
    "    print(\"looking around in the kitchen.\")\n",
    "elif room == \"bed\":\n",
    "    print(\"looking around in the bedroom.\")\n",
    "else :\n",
    "    print(\"looking around elsewhere.\")\n",
    "\n",
    "# if-elif-else construct for area\n",
    "if area > 15 :\n",
    "    print(\"big place!\")\n",
    "elif area > 10: \n",
    "    print(\"medium size, nice!\")\n",
    "else :\n",
    "    print(\"pretty small.\")"
   ]
  },
  {
   "cell_type": "markdown",
   "id": "115e9e64",
   "metadata": {},
   "source": [
    "## 📍 Filtering Pandas DataFrames"
   ]
  },
  {
   "cell_type": "markdown",
   "id": "8dedcc43",
   "metadata": {},
   "source": [
    "### Select a Subset in a DataFrame\n",
    "\n",
    "Example:  Select countries in brics.csv with area greater than 8million km\n",
    "\n",
    "- Select the desired column (area)\n",
    "- Perform a comparison on that column \n",
    "- Use the result to select countries \n",
    "\n",
    "[💡 Example](#💡-Example) [▶️ Run cell below](#▶️-run-cell-below)\n"
   ]
  },
  {
   "cell_type": "code",
   "execution_count": 14,
   "id": "604f4531",
   "metadata": {},
   "outputs": [
    {
     "name": "stdout",
     "output_type": "stream",
     "text": [
      "            country    capital    area  population\n",
      "code                                              \n",
      "BR           Brazil   Brasilia   8.516      200.40\n",
      "RU           Russia     Moscow  17.100      143.50\n",
      "IN           India   New Delhi   3.286     1252.00\n",
      "CH            China    Beijing   9.597     1357.00\n",
      "SA     South Africa   Pretoria   1.221       52.98\n"
     ]
    }
   ],
   "source": [
    "#Example \n",
    "import pandas as pd\n",
    "brics = pd.read_csv(\"../data/brics.csv\", index_col= 0)\n",
    "brics.columns.str.strip() #strip leading/trailing whitespace from column names\n",
    "brics\n",
    "print(brics)"
   ]
  },
  {
   "cell_type": "code",
   "execution_count": 15,
   "id": "cdd1923e",
   "metadata": {},
   "outputs": [
    {
     "data": {
      "text/plain": [
       "code\n",
       "BR     8.516\n",
       "RU    17.100\n",
       "IN     3.286\n",
       "CH     9.597\n",
       "SA     1.221\n",
       "Name: area, dtype: float64"
      ]
     },
     "execution_count": 15,
     "metadata": {},
     "output_type": "execute_result"
    }
   ],
   "source": [
    "#Step 1: Get column\n",
    "brics[\"area\"]\n",
    "\n",
    "#Can also use .loc or .iloc \n",
    "# brics.loc[:, \"area\"]\n",
    "#brics.iloc[:, 2]"
   ]
  },
  {
   "cell_type": "code",
   "execution_count": 16,
   "id": "886ac005",
   "metadata": {},
   "outputs": [
    {
     "data": {
      "text/plain": [
       "code\n",
       "BR     True\n",
       "RU     True\n",
       "IN    False\n",
       "CH     True\n",
       "SA    False\n",
       "Name: area, dtype: bool"
      ]
     },
     "execution_count": 16,
     "metadata": {},
     "output_type": "execute_result"
    }
   ],
   "source": [
    "#Step 2: Compare \n",
    "# Goal: area > 8km \n",
    "brics[\"area\"] > 8\n",
    "is_huge = brics[\"area\"] > 8 \n",
    "is_huge\n"
   ]
  },
  {
   "cell_type": "code",
   "execution_count": 17,
   "id": "6d4dbe45",
   "metadata": {},
   "outputs": [
    {
     "data": {
      "text/html": [
       "<div>\n",
       "<style scoped>\n",
       "    .dataframe tbody tr th:only-of-type {\n",
       "        vertical-align: middle;\n",
       "    }\n",
       "\n",
       "    .dataframe tbody tr th {\n",
       "        vertical-align: top;\n",
       "    }\n",
       "\n",
       "    .dataframe thead th {\n",
       "        text-align: right;\n",
       "    }\n",
       "</style>\n",
       "<table border=\"1\" class=\"dataframe\">\n",
       "  <thead>\n",
       "    <tr style=\"text-align: right;\">\n",
       "      <th></th>\n",
       "      <th>country</th>\n",
       "      <th>capital</th>\n",
       "      <th>area</th>\n",
       "      <th>population</th>\n",
       "    </tr>\n",
       "    <tr>\n",
       "      <th>code</th>\n",
       "      <th></th>\n",
       "      <th></th>\n",
       "      <th></th>\n",
       "      <th></th>\n",
       "    </tr>\n",
       "  </thead>\n",
       "  <tbody>\n",
       "    <tr>\n",
       "      <th>BR</th>\n",
       "      <td>Brazil</td>\n",
       "      <td>Brasilia</td>\n",
       "      <td>8.516</td>\n",
       "      <td>200.4</td>\n",
       "    </tr>\n",
       "    <tr>\n",
       "      <th>RU</th>\n",
       "      <td>Russia</td>\n",
       "      <td>Moscow</td>\n",
       "      <td>17.100</td>\n",
       "      <td>143.5</td>\n",
       "    </tr>\n",
       "    <tr>\n",
       "      <th>CH</th>\n",
       "      <td>China</td>\n",
       "      <td>Beijing</td>\n",
       "      <td>9.597</td>\n",
       "      <td>1357.0</td>\n",
       "    </tr>\n",
       "  </tbody>\n",
       "</table>\n",
       "</div>"
      ],
      "text/plain": [
       "     country   capital    area  population\n",
       "code                                      \n",
       "BR    Brazil  Brasilia   8.516       200.4\n",
       "RU    Russia    Moscow  17.100       143.5\n",
       "CH     China   Beijing   9.597      1357.0"
      ]
     },
     "execution_count": 17,
     "metadata": {},
     "output_type": "execute_result"
    }
   ],
   "source": [
    "#Step 3: Subset DataFrame\n",
    "is_huge\n",
    "brics[is_huge]"
   ]
  },
  {
   "cell_type": "code",
   "execution_count": 18,
   "id": "a00532fa",
   "metadata": {},
   "outputs": [
    {
     "data": {
      "text/html": [
       "<div>\n",
       "<style scoped>\n",
       "    .dataframe tbody tr th:only-of-type {\n",
       "        vertical-align: middle;\n",
       "    }\n",
       "\n",
       "    .dataframe tbody tr th {\n",
       "        vertical-align: top;\n",
       "    }\n",
       "\n",
       "    .dataframe thead th {\n",
       "        text-align: right;\n",
       "    }\n",
       "</style>\n",
       "<table border=\"1\" class=\"dataframe\">\n",
       "  <thead>\n",
       "    <tr style=\"text-align: right;\">\n",
       "      <th></th>\n",
       "      <th>country</th>\n",
       "      <th>capital</th>\n",
       "      <th>area</th>\n",
       "      <th>population</th>\n",
       "    </tr>\n",
       "    <tr>\n",
       "      <th>code</th>\n",
       "      <th></th>\n",
       "      <th></th>\n",
       "      <th></th>\n",
       "      <th></th>\n",
       "    </tr>\n",
       "  </thead>\n",
       "  <tbody>\n",
       "    <tr>\n",
       "      <th>BR</th>\n",
       "      <td>Brazil</td>\n",
       "      <td>Brasilia</td>\n",
       "      <td>8.516</td>\n",
       "      <td>200.4</td>\n",
       "    </tr>\n",
       "    <tr>\n",
       "      <th>RU</th>\n",
       "      <td>Russia</td>\n",
       "      <td>Moscow</td>\n",
       "      <td>17.100</td>\n",
       "      <td>143.5</td>\n",
       "    </tr>\n",
       "    <tr>\n",
       "      <th>CH</th>\n",
       "      <td>China</td>\n",
       "      <td>Beijing</td>\n",
       "      <td>9.597</td>\n",
       "      <td>1357.0</td>\n",
       "    </tr>\n",
       "  </tbody>\n",
       "</table>\n",
       "</div>"
      ],
      "text/plain": [
       "     country   capital    area  population\n",
       "code                                      \n",
       "BR    Brazil  Brasilia   8.516       200.4\n",
       "RU    Russia    Moscow  17.100       143.5\n",
       "CH     China   Beijing   9.597      1357.0"
      ]
     },
     "execution_count": 18,
     "metadata": {},
     "output_type": "execute_result"
    }
   ],
   "source": [
    "#Example: Combine 3 steps into one \n",
    "brics[brics[\"area\"] > 8 ]"
   ]
  },
  {
   "cell_type": "code",
   "execution_count": 19,
   "id": "8e5337ed",
   "metadata": {},
   "outputs": [
    {
     "data": {
      "text/html": [
       "<div>\n",
       "<style scoped>\n",
       "    .dataframe tbody tr th:only-of-type {\n",
       "        vertical-align: middle;\n",
       "    }\n",
       "\n",
       "    .dataframe tbody tr th {\n",
       "        vertical-align: top;\n",
       "    }\n",
       "\n",
       "    .dataframe thead th {\n",
       "        text-align: right;\n",
       "    }\n",
       "</style>\n",
       "<table border=\"1\" class=\"dataframe\">\n",
       "  <thead>\n",
       "    <tr style=\"text-align: right;\">\n",
       "      <th></th>\n",
       "      <th>country</th>\n",
       "      <th>capital</th>\n",
       "      <th>area</th>\n",
       "      <th>population</th>\n",
       "    </tr>\n",
       "    <tr>\n",
       "      <th>code</th>\n",
       "      <th></th>\n",
       "      <th></th>\n",
       "      <th></th>\n",
       "      <th></th>\n",
       "    </tr>\n",
       "  </thead>\n",
       "  <tbody>\n",
       "    <tr>\n",
       "      <th>BR</th>\n",
       "      <td>Brazil</td>\n",
       "      <td>Brasilia</td>\n",
       "      <td>8.516</td>\n",
       "      <td>200.4</td>\n",
       "    </tr>\n",
       "    <tr>\n",
       "      <th>CH</th>\n",
       "      <td>China</td>\n",
       "      <td>Beijing</td>\n",
       "      <td>9.597</td>\n",
       "      <td>1357.0</td>\n",
       "    </tr>\n",
       "  </tbody>\n",
       "</table>\n",
       "</div>"
      ],
      "text/plain": [
       "     country   capital   area  population\n",
       "code                                     \n",
       "BR    Brazil  Brasilia  8.516       200.4\n",
       "CH     China   Beijing  9.597      1357.0"
      ]
     },
     "execution_count": 19,
     "metadata": {},
     "output_type": "execute_result"
    }
   ],
   "source": [
    "#Boolean Operators + Filtering \n",
    "#Example: use NumPy Boolean Operation to show only data for countries with an area between 8 and 10 km\n",
    "import numpy as np \n",
    "np.logical_and(brics[\"area\"] > 8, brics[\"area\"] < 10)\n",
    "brics[np.logical_and(brics[\"area\"] > 8, brics[\"area\"] < 10)]"
   ]
  },
  {
   "cell_type": "markdown",
   "id": "ded40cdd",
   "metadata": {},
   "source": [
    "## 📝 TO DO \n",
    "\n",
    "- Add examples with np.logical(and)...\n"
   ]
  }
 ],
 "metadata": {
  "kernelspec": {
   "display_name": "Python 3",
   "language": "python",
   "name": "python3"
  },
  "language_info": {
   "codemirror_mode": {
    "name": "ipython",
    "version": 3
   },
   "file_extension": ".py",
   "mimetype": "text/x-python",
   "name": "python",
   "nbconvert_exporter": "python",
   "pygments_lexer": "ipython3",
   "version": "3.12.1"
  }
 },
 "nbformat": 4,
 "nbformat_minor": 5
}
