{
 "cells": [
  {
   "cell_type": "markdown",
   "id": "1bc05339",
   "metadata": {},
   "source": [
    "# 🧠 Main Topic\n",
    "Short description "
   ]
  },
  {
   "cell_type": "markdown",
   "id": "38cf4233",
   "metadata": {},
   "source": [
    "## 🧭 Table of Contents\n",
    "\n",
    "- [✅ Concept 1: Concept 1 Title](#✅-concept-1-title)\n",
    "- [✅ Concept 2: Concept 2 Title ](#✅-concept-2-title)\n",
    "- [📝 Notes](#📝-notes)"
   ]
  },
  {
   "cell_type": "markdown",
   "id": "90289fc1",
   "metadata": {},
   "source": [
    "## ✅ Concept 1: Concept Heading \n",
    "\n",
    "Brief Description\n",
    "\n",
    "- [Point 1](#-Point-1)\n",
    "- [Point 2](#Point-2)\n",
    "\n",
    "[💡 Example](#💡-Example)\n",
    "- [▶️ Run cell below](#▶️-run-cell-below)\n",
    "\n"
   ]
  },
  {
   "cell_type": "code",
   "execution_count": null,
   "id": "1c8ec16b",
   "metadata": {},
   "outputs": [],
   "source": [
    "# Import pandas\n",
    "import pandas as pd\n",
    "\n",
    "# Create a simple DataFrame\n",
    "df = pd.DataFrame({\n",
    "    \"name\": [\"Alice\", \"Bob\", \"Charlie\", \"David\"],\n",
    "    \"age\": [25, 30, 35, 40]\n",
    "})\n",
    "\n",
    "# Filter rows where age is greater than 30\n",
    "filtered_df = df[df[\"age\"] > 30]\n",
    "\n",
    "# Show the result\n",
    "print(filtered_df)"
   ]
  },
  {
   "cell_type": "markdown",
   "id": "a56ebde7",
   "metadata": {},
   "source": [
    "## ✅ Concept 2: How to Use It"
   ]
  },
  {
   "cell_type": "markdown",
   "id": "ded40cdd",
   "metadata": {},
   "source": [
    "## 📝 Notes\n",
    "\n",
    "- Common gotchas\n",
    "- Syntax reminders\n",
    "- TODO: Fill in real-world example"
   ]
  }
 ],
 "metadata": {
  "kernelspec": {
   "display_name": "Python 3",
   "language": "python",
   "name": "python3"
  },
  "language_info": {
   "codemirror_mode": {
    "name": "ipython",
    "version": 3
   },
   "file_extension": ".py",
   "mimetype": "text/x-python",
   "name": "python",
   "nbconvert_exporter": "python",
   "pygments_lexer": "ipython3",
   "version": "3.12.1"
  }
 },
 "nbformat": 4,
 "nbformat_minor": 5
}
