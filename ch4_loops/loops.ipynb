{
 "cells": [
  {
   "cell_type": "markdown",
   "id": "3e76c641",
   "metadata": {},
   "source": [
    "# ✏️ Loops\n",
    "Topics covered: while loops, for loops, looping through data strcutures, looping through DataFrames in Pandas. "
   ]
  },
  {
   "cell_type": "markdown",
   "id": "71760c8e",
   "metadata": {},
   "source": [
    "# 📚 Table of Contents\n",
    "- [🔁 For Loops](#-for-loops)\n",
    "  - [➤ Loop Over a List](#loop-over-a-list)\n",
    "  - [➤ Access Indexes in a List — `enumerate()`](#access-indexes-in-a-list--enumerate)\n",
    "  - [➤ Loop Over a String](#loop-over-a-string)\n",
    "\n",
    "- [📦 Looping Through Data Structures](#looping-through-data-structures)\n",
    "  - [➤ Loop Over a Dictionary](#loop-over-a-dictionary)\n",
    "  - [➤ Loop Over a NumPy Array](#loop-over-a-numpy-array)\n",
    "\n",
    "- [📊 Looping Through DataFrames](#looping-through-dataframes)\n",
    "  - [➤ Apply Function to DataFrame — `df.apply()`](#apply-function-to-dataframe--dfapply)\n",
    "  \n",
    "- [🔁 While Loops](#-while-loops)\n",
    "  - [➤ Basic While Loop](#basic-while-loop)\n",
    "  - [➤ While Loop with Conditionals](#while-loop-with-conditionals)"
   ]
  },
  {
   "cell_type": "markdown",
   "id": "7bd3436f",
   "metadata": {},
   "source": [
    "# 🔁 For Loops\n",
    "\n",
    "A `for` loop repeats a block of code for each item in a sequence (like a list or string).\n",
    "\n",
    "**Basic syntax:**\n",
    "For each variable in the sequence, execute the expression. \n",
    "```python\n",
    "for variable in sequence:\n",
    "    expression\n",
    "```\n",
    "### ➤ Loop Over a Sequence (List or String)\n",
    "- Lists are ordered sets of items.  \n",
    "- Strings are sequences of characters.  \n",
    "- Looping over them allows you to perform actions on each item or character.\n",
    "\n",
    "**Example: List**\n",
    "```python \n",
    "fam = [1.73, 1.68, 1.71, 1.89]\n",
    "    for height in fam :\n",
    "        print(height)\n",
    "```\n",
    "**Example: String**\n",
    "```python \n",
    "for char in \"cat\" : \n",
    "    print(char)\n",
    "```\n",
    "### ➤ Access Indexes in a Sequence — enumerate()\n",
    "Sometimes you need to know the position of each item while looping. Use `enumerate()` to access both the **index** and the corresponding value. \n",
    "\n",
    "```python\n",
    "for index, value in enumerate(['panda', 'bear', 'dog']):\n",
    "   print(index, value)\n",
    "```\n",
    "\n",
    "⬇️ See Code Examples Below"
   ]
  },
  {
   "cell_type": "code",
   "execution_count": 13,
   "id": "e47db05d",
   "metadata": {},
   "outputs": [],
   "source": [
    "#Examples: For Loops"
   ]
  },
  {
   "cell_type": "markdown",
   "id": "cff40396",
   "metadata": {},
   "source": [
    "## 🧮 Looping Over Data Structures\n",
    "You can also use `for` loops to iterate over data structures such as **dictionaries** and **NumPy arrays**.  \n",
    "\n",
    "**Basic syntax:**\n",
    "For each variable in the data structure, execute the expression: \n",
    "```python\n",
    "for variable in data_structure:\n",
    "    expression\n",
    "```\n",
    "### ➤ Loop over Dictionary\n",
    "- Dictionaries store key-value pairs and looping over a dictionary by default iterates over the keys.  \n",
    "\n",
    "### ➤ Arrays\n",
    "- Arrays are collections of items arranged in one or more dimensions.  \n",
    "  - **1D:** A simple list of numbers (one row of values).  \n",
    "  - **2D:** A table or matrix with rows and columns.  \n",
    "  - **3D+:** Stacks of tables or cubes of numbers.\n",
    "\n",
    "- Arrays are used in numerical computing and often represent data like image (height x width) or spreadsheets.\n",
    "\n",
    "### ➤ Loop over NumPy Array\n",
    "- Use `np.nditer()` to loop through elements in multi-dimensionsal arrays. \n",
    "- Regular`for` loops are possible, but built-in NumPy operations is best practice. "
   ]
  },
  {
   "cell_type": "code",
   "execution_count": 14,
   "id": "8d7a1a74",
   "metadata": {},
   "outputs": [],
   "source": [
    "#Examples- Dictionaries + NumPy Arrays"
   ]
  },
  {
   "cell_type": "markdown",
   "id": "61355b0a",
   "metadata": {},
   "source": [
    "## 🐼 Pandas: Looping Over DataFrames\n",
    "\n",
    "In pandas, you can loop through rows of a DataFrame using `.iterrows()` or apply functions to columns using `.apply()`.\n",
    "\n",
    "### ➤ Loop with `.iterrows()`\n",
    "**Basic syntax:**\n",
    "```python\n",
    "for index, row in df.iterrows():\n",
    "    expression\n",
    "```\n",
    "- Returns each row as a Series, along with its index.  \n",
    "- Useful for row-by-row operations, but can be slow on large DataFrames.\n",
    "\n",
    "### ➤ Use `.apply()` instead of looping\n",
    "- Applies a function to each element in a column (or row).  \n",
    "- More efficient and preferred over manual loops for most operations.\n",
    "\n",
    "⬇️ See Code Examples Below"
   ]
  },
  {
   "cell_type": "code",
   "execution_count": null,
   "id": "42f91e58",
   "metadata": {},
   "outputs": [],
   "source": [
    "#Example - Pandas DataFrames "
   ]
  },
  {
   "cell_type": "markdown",
   "id": "5ee238e4",
   "metadata": {},
   "source": [
    "\n",
    "## Other Loop Types\n",
    "#### ➤ While Loops\n",
    "Use a `while` loop to repeat an action **until a condition is no longer `True`**. Less common than `for` loops, but useful when the number of iterations isn’t known.\n",
    "\n",
    "```python\n",
    "while condition:\n",
    "    expression\n",
    "```\n",
    "\n",
    "**Example**\n",
    "\n",
    "- Start with a num = 50\n",
    "- Divide it by 4 on each loop \n",
    "- Stop once num is no longer greater than 1.\n",
    "\n",
    "```python\n",
    "num = 50.0\n",
    "while num > 1 :\n",
    "    num = num / 4\n",
    "    print(num)\n",
    "```"
   ]
  }
 ],
 "metadata": {
  "kernelspec": {
   "display_name": "Python 3",
   "language": "python",
   "name": "python3"
  },
  "language_info": {
   "codemirror_mode": {
    "name": "ipython",
    "version": 3
   },
   "file_extension": ".py",
   "mimetype": "text/x-python",
   "name": "python",
   "nbconvert_exporter": "python",
   "pygments_lexer": "ipython3",
   "version": "3.12.1"
  }
 },
 "nbformat": 4,
 "nbformat_minor": 5
}
