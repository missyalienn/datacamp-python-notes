{
 "cells": [
  {
   "cell_type": "markdown",
   "id": "3e76c641",
   "metadata": {},
   "source": [
    "# ✏️ Main Topic\n",
    "Short description "
   ]
  },
  {
   "cell_type": "markdown",
   "id": "71760c8e",
   "metadata": {},
   "source": [
    "### 🧭 Table of Contents\n",
    "\n",
    "- [✅ Concept 1: What It Does](#✅-concept-1-what-it-does)\n",
    "- [✅ Concept 2: How to Use It](#✅-concept-2-how-to-use-it)\n",
    "- [📝 Notes](#📝-notes)"
   ]
  },
  {
   "cell_type": "markdown",
   "id": "1bd0c338",
   "metadata": {},
   "source": [
    "### ✅ Concept 1: What It Does\n",
    "\n",
    "This concept explains how to use the `filter()` function to select rows in a DataFrame based on a condition."
   ]
  },
  {
   "cell_type": "code",
   "execution_count": 13,
   "id": "5d90d213",
   "metadata": {},
   "outputs": [
    {
     "data": {
      "text/plain": [
       "0      Alice\n",
       "1        Bob\n",
       "2    Charlie\n",
       "Name: name, dtype: object"
      ]
     },
     "execution_count": 13,
     "metadata": {},
     "output_type": "execute_result"
    }
   ],
   "source": [
    "# Code Example 1\n",
    "import pandas as pd\n",
    "\n",
    "# Create a simple DataFrame\n",
    "df = pd.DataFrame({\n",
    "    \"name\": [\"Alice\", \"Bob\", \"Charlie\"],\n",
    "    \"age\": [25, 30, 35]\n",
    "})\n",
    "\n",
    "# Access the 'name' column\n",
    "df[\"name\"]"
   ]
  },
  {
   "cell_type": "markdown",
   "id": "7bd3436f",
   "metadata": {},
   "source": [
    "### ✅ Concept 2: How to Use It\n",
    "This concept explains how to use the `filter()` function to select rows in a DataFrame based on a condition.\n",
    "\n",
    "- [Point 1](#-Point-1)\n",
    "- [Point 2](#Point-2)\n",
    "\n",
    "[💡 Example](#💡-Example)\n",
    "- [▶️ Run cell below](#▶️-run-cell-below)\n",
    "\n"
   ]
  },
  {
   "cell_type": "code",
   "execution_count": 10,
   "id": "5af78885",
   "metadata": {},
   "outputs": [
    {
     "name": "stdout",
     "output_type": "stream",
     "text": [
      "      name  age\n",
      "2  Charlie   35\n",
      "3    David   40\n"
     ]
    }
   ],
   "source": [
    "# Import pandas\n",
    "import pandas as pd\n",
    "\n",
    "# Create a simple DataFrame\n",
    "df = pd.DataFrame({\n",
    "    \"name\": [\"Alice\", \"Bob\", \"Charlie\", \"David\"],\n",
    "    \"age\": [25, 30, 35, 40]\n",
    "})\n",
    "\n",
    "# Filter rows where age is greater than 30\n",
    "filtered_df = df[df[\"age\"] > 30]\n",
    "\n",
    "# Show the result\n",
    "print(filtered_df)"
   ]
  },
  {
   "cell_type": "markdown",
   "id": "cea035e4",
   "metadata": {},
   "source": [
    "## 📝 Notes\n",
    "\n",
    "- Common gotchas\n",
    "- Syntax reminders\n",
    "- TODO: Fill in real-world example"
   ]
  }
 ],
 "metadata": {
  "kernelspec": {
   "display_name": "Python 3",
   "language": "python",
   "name": "python3"
  },
  "language_info": {
   "codemirror_mode": {
    "name": "ipython",
    "version": 3
   },
   "file_extension": ".py",
   "mimetype": "text/x-python",
   "name": "python",
   "nbconvert_exporter": "python",
   "pygments_lexer": "ipython3",
   "version": "3.12.1"
  }
 },
 "nbformat": 4,
 "nbformat_minor": 5
}
