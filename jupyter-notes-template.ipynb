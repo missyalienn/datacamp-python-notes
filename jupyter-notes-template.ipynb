{
 "cells": [
  {
   "cell_type": "markdown",
   "id": "3e76c641",
   "metadata": {},
   "source": [
    "# 🧠 Main Topic\n",
    "Short description "
   ]
  },
  {
   "cell_type": "markdown",
   "id": "71760c8e",
   "metadata": {},
   "source": [
    "## 🧭 Table of Contents\n",
    "\n",
    "- [✅ Concept 1: What It Does](#✅-concept-1-what-it-does)\n",
    "- [✅ Concept 2: How to Use It](#✅-concept-2-how-to-use-it)\n",
    "- [📝 Notes](#📝-notes)"
   ]
  },
  {
   "cell_type": "markdown",
   "id": "43285921",
   "metadata": {},
   "source": [
    "## ✅ Concept 1: What It Does\n",
    "\n",
    "Quick notes or reminders."
   ]
  },
  {
   "cell_type": "code",
   "execution_count": null,
   "id": "042e6209",
   "metadata": {},
   "outputs": [],
   "source": [
    "# Example of the concept\n",
    "df[\"column\"]"
   ]
  },
  {
   "cell_type": "markdown",
   "id": "e545093b",
   "metadata": {},
   "source": [
    "## ✅ Concept 2: How to Use It"
   ]
  },
  {
   "cell_type": "code",
   "execution_count": null,
   "id": "017c9571",
   "metadata": {},
   "outputs": [],
   "source": [
    "# Another example\n",
    "df[df[\"value\"] > 100]"
   ]
  },
  {
   "cell_type": "markdown",
   "id": "cea035e4",
   "metadata": {},
   "source": [
    "## 📝 Notes\n",
    "\n",
    "- Common gotchas\n",
    "- Syntax reminders\n",
    "- TODO: Fill in real-world example"
   ]
  },
  {
   "cell_type": "markdown",
   "id": "e3c43089",
   "metadata": {},
   "source": [
    "## ✅ Concept 1: What It Does\n",
    "\n",
    "This concept explains how to use the `filter()` function to select rows in a DataFrame based on a condition."
   ]
  },
  {
   "cell_type": "code",
   "execution_count": null,
   "id": "976034cb",
   "metadata": {},
   "outputs": [],
   "source": [
    "\n",
    "# Import pandas\n",
    "import pandas as pd\n",
    "\n",
    "# Create a simple DataFrame\n",
    "df = pd.DataFrame({\n",
    "    \"name\": [\"Alice\", \"Bob\", \"Charlie\", \"David\"],\n",
    "    \"age\": [25, 30, 35, 40]\n",
    "})\n",
    "\n",
    "# Filter rows where age is greater than 30\n",
    "filtered_df = df[df[\"age\"] > 30]\n",
    "\n",
    "# Show the result\n",
    "print(filtered_df)"
   ]
  }
 ],
 "metadata": {
  "language_info": {
   "name": "python"
  }
 },
 "nbformat": 4,
 "nbformat_minor": 5
}
