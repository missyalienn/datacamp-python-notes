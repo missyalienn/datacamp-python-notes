{
 "cells": [
  {
   "cell_type": "markdown",
   "id": "ff411b85",
   "metadata": {},
   "source": [
    "# Case Study: Climbing the Empire State Building \n",
    "\n",
    "### 🏙️ Scenario\n",
    "\n",
    "You're walking up the Empire State Building with a friend and playing a dice game to determine your steps. \n",
    "\n",
    "**Rules**:**\n",
    "\n",
    "- 🎲 Roll a die **100 times**.\n",
    "- If you roll:\n",
    "  - **1 or 2** → Step **down** 1 floor (but never below 0).\n",
    "  - **3, 4, or 5** → Step **up** 1 floor.\n",
    "  - **6** → Roll again and step **up** that number of steps.\n",
    "- On each move, there's a *0.1% chance* of falling\n",
    "  - If a fall happens -> you return to **step 0** \n",
    "\n",
    "\n",
    "\n",
    "🎯 **Goal**: Reach **60 steps or higher**.\n",
    "\n",
    "**Key Question**: What’s the probability of reaching 60 steps or higher given the above constraints?"
   ]
  },
  {
   "cell_type": "markdown",
   "id": "73ff2b88",
   "metadata": {},
   "source": [
    "### 🔹 Strategy: How to Solve\n",
    "**Options**\n",
    "- Use complex probability theory and mathematical equations.\n",
    "\n",
    "- Use **Hacker Statistics** - write a program to simulate the game 10,000 times and see how often we reach 60 steps. \n",
    "\n",
    "**Why Hacker Statistics** This approach utilizes computing power instead of calculus, and is ideal for complex systems & real-world data where equations/mathematical theory are hard to apply. "
   ]
  },
  {
   "cell_type": "markdown",
   "id": "a2256be0",
   "metadata": {},
   "source": [
    "### Random Number Generators \n",
    "- We'll use `numpy.random` to simulate dice rolls/randomness in the game. \n",
    "- These are pseudorandom numbers - look random but are generated from a starting point called a **seed**"
   ]
  },
  {
   "cell_type": "markdown",
   "id": "6f296e37",
   "metadata": {},
   "source": [
    "### Setting Seed and Generating Random Numbers \n",
    "\n",
    "- `np.random.seed(n)`: Sets the random seed for reproducibility, where n is an integer you choose. Using the same seed produces the same random numbers every time. \n",
    "\n",
    "\n",
    "- `np.random.rand()`: Generates a random float between 0 and 1.\n"
   ]
  },
  {
   "cell_type": "code",
   "execution_count": null,
   "id": "62e7f430",
   "metadata": {},
   "outputs": [],
   "source": [
    "import numpy as np\n",
    "# Generate a pseudorandom number (different each run if seed not set)\n",
    "print(\"Random number without setting seed:\", np.random.rand()) "
   ]
  },
  {
   "cell_type": "code",
   "execution_count": null,
   "id": "226655a7",
   "metadata": {},
   "outputs": [
    {
     "name": "stdout",
     "output_type": "stream",
     "text": [
      "0.6964691855978616\n",
      "0.28613933495037946\n"
     ]
    }
   ],
   "source": [
    "# Set a seed for reproducibility and generate random numbers \n",
    "import numpy as np\n",
    "np.random.seed(123)  # Set seed for reproducibility\n",
    "print(np.random.rand()) # Prints the first random number for this seed. \n",
    "print(np.random.rand())     # Prints the second random number for this seed. "
   ]
  },
  {
   "cell_type": "code",
   "execution_count": 43,
   "id": "f158c51e",
   "metadata": {},
   "outputs": [
    {
     "name": "stdout",
     "output_type": "stream",
     "text": [
      "6\n",
      "3\n"
     ]
    }
   ],
   "source": [
    "# Roll the Dice \n",
    "#Use randint()to simulate a dice and randomly generate the integer 1, 2, 3, 4, 5 or 6.\n",
    "import numpy as np \n",
    "np.random.seed(123)\n",
    "\n",
    "#Use randint() to simulate dice roll\n",
    "print(np.random.randint(1,7))\n",
    "\n",
    "#Use randint() again to simulate second throw of dice \n",
    "print(np.random.randint(1,7))"
   ]
  },
  {
   "cell_type": "code",
   "execution_count": 1,
   "id": "1820359c",
   "metadata": {},
   "outputs": [
    {
     "name": "stdout",
     "output_type": "stream",
     "text": [
      "6\n",
      "53\n"
     ]
    }
   ],
   "source": [
    "#Determine Next Move \n",
    "# The next move depends on what number you get after throwing the dice. \n",
    "#Assume player is already at Step 50 \n",
    "import numpy as np \n",
    "np.random.seed(123)\n",
    "#Starting Step \n",
    "step = 50 \n",
    "\n",
    "#Roll the Dice \n",
    "dice = np.random.randint(1,7)\n",
    "\n",
    "#Set control construct with dice rules \n",
    "if dice <= 2 : \n",
    "    step = step - 1\n",
    "elif dice in [3, 4, 5] : \n",
    "    step = step + 1\n",
    "else : \n",
    "    step = step + np.random.randint(1,7)\n",
    "#Print Dice and Step \n",
    "print(dice)\n",
    "print(step)\n",
    "#You throw a 6: so the else statement is executed. \n",
    "#This causes you to throw again and take the resulting number of steps. \n",
    "#Since new value for step is 53 - must've thrown a 3 and taken three steps up from original 50. "
   ]
  },
  {
   "cell_type": "markdown",
   "id": "a30a8e36",
   "metadata": {},
   "source": [
    "### Random Walk Concept\n",
    "\n",
    "A **random walk** is a sequence of random steps where each new step depends on the previous one. \n",
    "\n",
    "\n",
    "Previously we simulated taking a single random step. Next, we will simulate *100* dice rolls/steps, updating our current position after each roll, to model the complete random walk.\n",
    "\n",
    "### How to Simulate a Random Walk in Python (Dice Game Context)\n",
    "\n",
    "- Use a **for loop** to simulate rolling the dice multiple times (e.g., 100 steps). \n",
    "- After each roll, update the current position by following the dice rules (control flow). \n",
    "    - Example: If current position = 50 and you roll a 3, you move up 1 floor to 51.  \n",
    "- Use the **append()** method to add the new position (51) to the list. \n",
    "- The new position is added to the list and the loop continues... using it (51) as the current position.   \n",
    "- The list tracks your updated position after each dice roll - simulating the complete random walk. \n",
    "\n",
    "**Summary:** \n",
    "- The `for loop` controls how many times you run the code (e.g., 100)\n",
    "- The `append()` method inside the loop creates and updates the list for each dice roll. \n"
   ]
  },
  {
   "cell_type": "code",
   "execution_count": 5,
   "id": "501a8dab",
   "metadata": {},
   "outputs": [
    {
     "name": "stdout",
     "output_type": "stream",
     "text": [
      "[0, 3, 4, 5, 4, 5, 6, 7, 6, 5, 4, 3, 2, 1, 0, 0, 1, 6, 5, 4, 5, 4, 5, 6, 7, 8, 9, 8, 9, 8, 9, 10, 11, 12, 11, 15, 16, 15, 16, 15, 16, 17, 18, 19, 20, 21, 22, 25, 26, 27, 28, 33, 34, 38, 39, 38, 39, 40, 39, 40, 41, 43, 44, 45, 44, 43, 44, 45, 44, 43, 44, 45, 47, 46, 45, 46, 45, 46, 47, 48, 50, 49, 50, 51, 52, 53, 54, 53, 52, 53, 52, 53, 54, 53, 56, 57, 58, 59, 58, 59, 60]\n"
     ]
    }
   ],
   "source": [
    "#Simulate Random Walk \n",
    "\n",
    "import numpy as np \n",
    "np.random.seed(123)\n",
    "\n",
    "#Initalize random_walk at position 0 \n",
    "random_walk =[0]\n",
    "\n",
    "#for loop \n",
    "for x in range(100) : \n",
    "    #on each loop, set \"step\" == to the last item in random_walk list using the index -1 \n",
    "    step = random_walk[-1]\n",
    "    dice = np.random.randint(1,7) #roll the dice \n",
    "\n",
    "    #Determine your next step \n",
    "    if dice <= 2 : \n",
    "        step = max(0, step-1) #use max to make sure dice doesnt go < 0. \n",
    "        #max returns the largest of the two arguments \n",
    "        #this makes sure that the value of \"step\" never goes below 0 when decreasing it\n",
    "    elif dice <= 5 : \n",
    "        step = step + 1 \n",
    "    else: \n",
    "        step = step + np.random.randint(1,7) #roll again and take increase \"step\" by that amount. \n",
    "    \n",
    "    random_walk.append(step) #append the new value of \"step\" to the random_walk list \n",
    "\n",
    "print(random_walk)\n",
    " "
   ]
  }
 ],
 "metadata": {
  "kernelspec": {
   "display_name": "Python 3",
   "language": "python",
   "name": "python3"
  },
  "language_info": {
   "codemirror_mode": {
    "name": "ipython",
    "version": 3
   },
   "file_extension": ".py",
   "mimetype": "text/x-python",
   "name": "python",
   "nbconvert_exporter": "python",
   "pygments_lexer": "ipython3",
   "version": "3.12.1"
  }
 },
 "nbformat": 4,
 "nbformat_minor": 5
}
