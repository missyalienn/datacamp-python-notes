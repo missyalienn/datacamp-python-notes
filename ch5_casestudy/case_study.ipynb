{
 "cells": [
  {
   "cell_type": "markdown",
   "id": "ff411b85",
   "metadata": {},
   "source": [
    "# Case Study: Climbing the Empire State Building \n",
    "\n",
    "### 🏙️ Scenario\n",
    "\n",
    "You're walking up the Empire State Building with a friend and playing a dice game to determine your steps. \n",
    "\n",
    "**Rules**:**\n",
    "\n",
    "- 🎲 Roll a die **100 times**.\n",
    "- If you roll:\n",
    "  - **1 or 2** → Step **down** 1 floor (but never below 0).\n",
    "  - **3, 4, or 5** → Step **up** 1 floor.\n",
    "  - **6** → Roll again and step **up** that number of steps.\n",
    "- On each move, there's a *0.1% chance* of falling\n",
    "  - If a fall happens -> you return to **step 0** \n",
    "\n",
    "\n",
    "\n",
    "🎯 **Goal**: Reach **60 steps or higher**.\n",
    "\n",
    "**Key Question**: What’s the probability of reaching 60 steps or higher given the above constraints?"
   ]
  },
  {
   "cell_type": "markdown",
   "id": "73ff2b88",
   "metadata": {},
   "source": [
    "### 🔹 Strategy: How to Solve\n",
    "**Options**\n",
    "- Use complex probability theory and mathematical equations.\n",
    "\n",
    "- Use **Hacker Statistics** - write a program to simulate the game 10,000 times and see how often we reach 60 steps. \n",
    "\n",
    "**Why Hacker Statistics** This approach utilizes computing power instead of calculus, and is ideal for complex systems & real-world data where equations/mathematical theory are hard to apply. "
   ]
  },
  {
   "cell_type": "markdown",
   "id": "a2256be0",
   "metadata": {},
   "source": [
    "### Random Number Generators \n",
    "- We'll use `numpy.random` to simulate dice rolls/randomness in the game. \n",
    "- This generates pseudo-random numbers - numbers look random but are generated from a starting point called a **seed**\n",
    "\n",
    "- **Example below**:  We can set the seed to ensure reproducibility \n",
    "    - Setting the same seed (123) and calling np.random.rand() produces the SAME sequence of random numbers EACH TIME. Meaning others can replicate our results"
   ]
  },
  {
   "cell_type": "code",
   "execution_count": null,
   "id": "8dcb1a70",
   "metadata": {},
   "outputs": [],
   "source": [
    "import numpy as np \n",
    "np.random.rand() # generate pseudorandom number"
   ]
  },
  {
   "cell_type": "code",
   "execution_count": null,
   "id": "b3a580b4",
   "metadata": {},
   "outputs": [],
   "source": [
    "np.random.seed(123) #we set seed to '123' manually \n",
    "np.random.rand() #call np.random.rand "
   ]
  }
 ],
 "metadata": {
  "kernelspec": {
   "display_name": "Python 3",
   "language": "python",
   "name": "python3"
  },
  "language_info": {
   "codemirror_mode": {
    "name": "ipython",
    "version": 3
   },
   "file_extension": ".py",
   "mimetype": "text/x-python",
   "name": "python",
   "nbconvert_exporter": "python",
   "pygments_lexer": "ipython3",
   "version": "3.12.1"
  }
 },
 "nbformat": 4,
 "nbformat_minor": 5
}
